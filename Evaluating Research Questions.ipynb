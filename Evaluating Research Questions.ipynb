{
 "cells": [
  {
   "cell_type": "markdown",
   "metadata": {},
   "source": [
    "**Read the following descriptions of an experiment and its analysis, identify the flaws in each, and describe what you would do to correct them.**\n",
    "\n",
    "\n",
    "The Sith Lords are concerned that their recruiting slogan, \"Give In to Your Anger,\" isn't very effective. Darth Vader develops an alternative slogan, \"Together We Can Rule the Galaxy.\" They compare the slogans on two groups of 50 captured droids each. In one group, Emperor Palpatine delivers the \"Anger\" slogan. In the other, Darth Vader presents the \"Together\" slogan. 20 droids convert to the Dark Side after hearing Palpatine's slogan, while only 5 droids convert after hearing Vader's. The Sith's data scientist concludes that \"Anger\" is a more effective slogan and should continue to be used.\n",
    "\n",
    "**Here are some flaws . . .**\n",
    "* “Very effective” isn’t well-defined\n",
    "* The folks presenting the slogans are biased\n",
    "* When were the slogans delivered? How? \n",
    "* What is the retention rate of the droids?\n",
    "\n",
    "In the past, the Jedi have had difficulty with public relations. They send two envoys, Jar Jar Binks and Mace Windu, to four friendly and four unfriendly planets respectively, with the goal of promoting favorable feelings toward the Jedi. Upon their return, the envoys learn that Jar Jar was much more effective than Windu: Over 75% of the people surveyed said their attitudes had become more favorable after speaking with Jar Jar, while only 65% said their attitudes had become more favorable after speaking with Windu. This makes Windu angry, because he is sure that he had a better success rate than Jar Jar on every planet. The Jedi choose Jar Jar to be their representative in the future.\n",
    "\n",
    "\n",
    "**Here are some flaws . . . **\n",
    "* The sample groups weren’t similar (friendly vs. unfriendly)\n",
    "* How many people were surveyed?\n",
    "* I.e., people who are responding to a survey is a very specific demographic\n",
    "\n",
    "A company with work sites in five different countries has sent you data on employee satisfaction rates for workers in Human Resources and workers in Information Technology. Most HR workers are concentrated in three of the countries, while IT workers are equally distributed across worksites. The company requests a report on satisfaction for each job type. You calculate average job satisfaction for HR and for IT and present the report.\n",
    "\n",
    "\n",
    "**Here are some flaws . . .**\n",
    "* The samples aren’t similar enough, the groups  should all be from the same spread of countries. \n",
    "* Might be more interesting to look at HR vs IT in country X, then HR vs IT in country Y. \n",
    "\n",
    "\n",
    "When people install the Happy Days Fitness Tracker app, they are asked to \"opt in\" to a data collection scheme where their level of physical activity data is automatically sent to the company for product research purposes. During your interview with the company, they tell you that the app is very effective because after installing the app, the data show that people's activity levels rise steadily.\n",
    "\n",
    "\n",
    "**Here are some flaws . . .**\n",
    "* If people didn’t previously have the app, then (presumably) there was no activity being tracked, so after an opt-in it may appear that users’ activity levels rise.\n",
    "\n",
    "To prevent cheating, a teacher writes three versions of a test. She stacks the three versions together, first all copies of Version A, then all copies of Version B, then all copies of Version C. As students arrive for the exam, each student takes a test. When grading the test, the teacher finds that students who took Version B scored higher than students who took either Version A or Version C. She concludes from this that Version B is easier, and discards it.\n",
    "\n",
    "**Here are some flaws . . .**\n",
    "* It wasn’t a random distribution of versions of the test.\n",
    "* Test B may have simply been easier, or students that took B were more inclined to be able to answer the format of the questions.\n",
    "* Possible that A & C were too difficult.\n",
    "* The teacher herself is grading the tests, which is subjective (depending on the class).\n",
    "\n"
   ]
  },
  {
   "cell_type": "code",
   "execution_count": null,
   "metadata": {
    "collapsed": true
   },
   "outputs": [],
   "source": []
  }
 ],
 "metadata": {
  "kernelspec": {
   "display_name": "Python 3",
   "language": "python",
   "name": "python3"
  },
  "language_info": {
   "codemirror_mode": {
    "name": "ipython",
    "version": 3
   },
   "file_extension": ".py",
   "mimetype": "text/x-python",
   "name": "python",
   "nbconvert_exporter": "python",
   "pygments_lexer": "ipython3",
   "version": "3.6.1"
  }
 },
 "nbformat": 4,
 "nbformat_minor": 2
}
