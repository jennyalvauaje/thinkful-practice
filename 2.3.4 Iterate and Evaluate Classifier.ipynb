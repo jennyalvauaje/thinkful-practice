{
 "cells": [
  {
   "cell_type": "code",
   "execution_count": 1,
   "metadata": {
    "collapsed": true
   },
   "outputs": [],
   "source": [
    "%matplotlib inline\n",
    "import numpy as np\n",
    "import pandas as pd\n",
    "import scipy\n",
    "import sklearn\n",
    "import matplotlib.pyplot as plt\n",
    "import seaborn as sns\n",
    "\n",
    "from sklearn.metrics import confusion_matrix\n",
    "from sklearn.model_selection import train_test_split"
   ]
  },
  {
   "cell_type": "code",
   "execution_count": 2,
   "metadata": {
    "collapsed": true
   },
   "outputs": [],
   "source": [
    "def feedback_model(data, keywords):\n",
    "    \n",
    "    #create features df\n",
    "    features = pd.DataFrame()\n",
    "    features['Feedback'] = data['Feedback']\n",
    "    \n",
    "    for key in keywords:\n",
    "        features[str(key)] = data.Message.str.contains(str(key), case=False)\n",
    "       \n",
    "    #data type back to boolean\n",
    "    features['Feedback'] = features['Feedback'].map({1: True, 0: False})\n",
    "    \n",
    "    #check correlations\n",
    "    sns.heatmap(features.corr(), cmap='RdBu_r', center=0, square=True)\n",
    "    plt.show()\n",
    "    \n",
    "    #training dataset\n",
    "    training = features[keywords]\n",
    "    testing = features['Feedback']\n",
    "\n",
    "    #use bernoulli since our data is boolean\n",
    "    from sklearn.naive_bayes import BernoulliNB\n",
    "    bnb = BernoulliNB()\n",
    "\n",
    "    #fit\n",
    "    bnb.fit(training, testing)\n",
    "\n",
    "    #classify\n",
    "    y_pred = bnb.predict(training)\n",
    "\n",
    "    print(\"Number of mislabeled points out of a total {} points : {}\".format(\n",
    "    data.shape[0], (testing != y_pred).sum()))\n",
    "    \n",
    "    return y_pred, training, testing"
   ]
  },
  {
   "cell_type": "code",
   "execution_count": 12,
   "metadata": {
    "collapsed": true
   },
   "outputs": [],
   "source": [
    "yelp = pd.read_table('/Users/Jenny/Documents/Thinkful/random downloaded data/yelp_labelled.txt', header=None)\n",
    "yelp.columns = ['Message', 'Feedback']\n",
    "yelp_keywords = ['great', 'amazing', 'prompt', 'awesome', 'beautiful', 'delicious', 'wow', 'favorite', 'love', 'enjoy']"
   ]
  },
  {
   "cell_type": "code",
   "execution_count": 9,
   "metadata": {},
   "outputs": [
    {
     "data": {
      "text/html": [
       "<div>\n",
       "<style>\n",
       "    .dataframe thead tr:only-child th {\n",
       "        text-align: right;\n",
       "    }\n",
       "\n",
       "    .dataframe thead th {\n",
       "        text-align: left;\n",
       "    }\n",
       "\n",
       "    .dataframe tbody tr th {\n",
       "        vertical-align: top;\n",
       "    }\n",
       "</style>\n",
       "<table border=\"1\" class=\"dataframe\">\n",
       "  <thead>\n",
       "    <tr style=\"text-align: right;\">\n",
       "      <th></th>\n",
       "      <th>Message</th>\n",
       "      <th>Feedback</th>\n",
       "    </tr>\n",
       "  </thead>\n",
       "  <tbody>\n",
       "    <tr>\n",
       "      <th>0</th>\n",
       "      <td>Wow... Loved this place.</td>\n",
       "      <td>1</td>\n",
       "    </tr>\n",
       "    <tr>\n",
       "      <th>1</th>\n",
       "      <td>Crust is not good.</td>\n",
       "      <td>0</td>\n",
       "    </tr>\n",
       "    <tr>\n",
       "      <th>2</th>\n",
       "      <td>Not tasty and the texture was just nasty.</td>\n",
       "      <td>0</td>\n",
       "    </tr>\n",
       "    <tr>\n",
       "      <th>3</th>\n",
       "      <td>Stopped by during the late May bank holiday of...</td>\n",
       "      <td>1</td>\n",
       "    </tr>\n",
       "    <tr>\n",
       "      <th>4</th>\n",
       "      <td>The selection on the menu was great and so wer...</td>\n",
       "      <td>1</td>\n",
       "    </tr>\n",
       "  </tbody>\n",
       "</table>\n",
       "</div>"
      ],
      "text/plain": [
       "                                             Message  Feedback\n",
       "0                           Wow... Loved this place.         1\n",
       "1                                 Crust is not good.         0\n",
       "2          Not tasty and the texture was just nasty.         0\n",
       "3  Stopped by during the late May bank holiday of...         1\n",
       "4  The selection on the menu was great and so wer...         1"
      ]
     },
     "execution_count": 9,
     "metadata": {},
     "output_type": "execute_result"
    }
   ],
   "source": [
    "yelp.head()"
   ]
  },
  {
   "cell_type": "code",
   "execution_count": 13,
   "metadata": {},
   "outputs": [
    {
     "data": {
      "text/plain": [
       "1    500\n",
       "0    500\n",
       "Name: Feedback, dtype: int64"
      ]
     },
     "execution_count": 13,
     "metadata": {},
     "output_type": "execute_result"
    }
   ],
   "source": [
    "yelp['Feedback'].value_counts()"
   ]
  },
  {
   "cell_type": "code",
   "execution_count": 14,
   "metadata": {},
   "outputs": [
    {
     "data": {
      "image/png": "[encoded data removed]",
      "text/plain": [
       "<matplotlib.figure.Figure at 0x274ff96ccc0>"
      ]
     },
     "metadata": {},
     "output_type": "display_data"
    },
    {
     "name": "stdout",
     "output_type": "stream",
     "text": [
      "Number of mislabeled points out of a total 1000 points : 357\n"
     ]
    }
   ],
   "source": [
    "y_pred, training, testing = feedback_model(yelp, yelp_keywords)"
   ]
  },
  {
   "cell_type": "code",
   "execution_count": 15,
   "metadata": {},
   "outputs": [
    {
     "data": {
      "text/plain": [
       "array([[487,  13],\n",
       "       [344, 156]])"
      ]
     },
     "execution_count": 15,
     "metadata": {},
     "output_type": "execute_result"
    }
   ],
   "source": [
    "#confusion matrix to eval.\n",
    "confusion_matrix(testing, y_pred)"
   ]
  },
  {
   "cell_type": "markdown",
   "metadata": {},
   "source": [
    "**Accuracy:**Overall, how often is the classifier correct?\n",
    "\n",
    "* (TP+TN)/total = (487+156)/1000 = 0.63\n",
    "\n",
    "**Misclassification/Error Rate:** Overall, how often is it wrong?\n",
    "\n",
    "* (FP+FN)/total = (13+344)/1000 = .036\n",
    "\n",
    "**True Positive Rate/Sensitivity:** When it's actually yes, how often does it predict yes?\n",
    "\n",
    "* TP/actual yes = 156/500 = 0.31\n",
    "\n",
    "\n",
    "**False Positive Rate:** When it's actually no, how often does it predict yes?\n",
    "\n",
    "* FP/actual no = 13/500 = 0.03\n",
    "\n",
    "**Specificity:** When it's actually no, how often does it predict no?\n",
    "\n",
    "* TN/actual no = 487/500 = 0.97\n",
    "\n",
    "**Precision:** When it predicts yes, how often is it correct?\n",
    "\n",
    "* TP/predicted yes = 156/169 = 0.92\n",
    "\n",
    "**Prevalence:** How often does the yes condition actually occur in our sample?\n",
    "\n",
    "* actual yes/total = 500/1000 = 0.5"
   ]
  },
  {
   "cell_type": "code",
   "execution_count": 16,
   "metadata": {},
   "outputs": [
    {
     "name": "stdout",
     "output_type": "stream",
     "text": [
      "Number of mislabeled points out of a total 200 points : 70\n"
     ]
    },
    {
     "data": {
      "text/plain": [
       "array([[102,   3],\n",
       "       [ 67,  28]])"
      ]
     },
     "execution_count": 16,
     "metadata": {},
     "output_type": "execute_result"
    }
   ],
   "source": [
    "#Check overfitting (make a function?)\n",
    "\n",
    "# Divide dataset into training and testing sets\n",
    "X_train, X_test, Y_train, Y_test = train_test_split(training, testing, test_size=0.2)\n",
    "\n",
    "training = pd.concat([X_train, Y_train], axis=1)\n",
    "testing = pd.concat([X_test, Y_test], axis=1)\n",
    "\n",
    "# Train the model\n",
    "from sklearn.naive_bayes import BernoulliNB\n",
    "bnb = BernoulliNB()\n",
    "\n",
    "bnb.fit(X_train, Y_train)\n",
    "\n",
    "# Test the model\n",
    "y_pred = bnb.predict(X_test)\n",
    "\n",
    "# Model performance on testing set\n",
    "print(\"Number of mislabeled points out of a total {} points : {}\".format(X_test.shape[0], (Y_test != y_pred).sum()))\n",
    "\n",
    "# Confusion matrix to evaluate the classifier\n",
    "confusion_matrix(Y_test, y_pred)"
   ]
  },
  {
   "cell_type": "markdown",
   "metadata": {},
   "source": [
    "**Sensitivity** is 26%, **Specificity** is 97%, **Accuracy** is 65%; overfitting?"
   ]
  },
  {
   "cell_type": "code",
   "execution_count": 17,
   "metadata": {},
   "outputs": [
    {
     "data": {
      "text/plain": [
       "1                                     Crust is not good.\n",
       "2              Not tasty and the texture was just nasty.\n",
       "5         Now I am getting angry and I want my damn pho.\n",
       "6                  Honeslty it didn't taste THAT fresh.)\n",
       "7      The potatoes were like rubber and you could te...\n",
       "11                                    Would not go back.\n",
       "12     The cashier had no care what so ever on what I...\n",
       "14     I was disgusted because I was pretty sure that...\n",
       "15     I was shocked because no signs indicate cash o...\n",
       "17                Waitress was a little slow in service.\n",
       "18     This place is not worth your time, let alone V...\n",
       "19                                  did not like at all.\n",
       "20                                   The Burrittos Blah!\n",
       "26            - They never brought a salad we asked for.\n",
       "28     Took an hour to get our food only 4 tables in ...\n",
       "29                     The worst was the salmon sashimi.\n",
       "31                         This was like the final blow!\n",
       "33     seems like a good quick place to grab a bite o...\n",
       "37     Poor service, the waiter made me feel like I w...\n",
       "39                                        Service sucks.\n",
       "41     There is not a deal good enough that would dra...\n",
       "42     Hard to judge whether these sides were good be...\n",
       "44     Frozen pucks of disgust, with some of the wors...\n",
       "46             It's too bad the food is so damn generic.\n",
       "53     They have horrible attitudes towards customers...\n",
       "56     The Heart Attack Grill in downtown Vegas is an...\n",
       "57     Not much seafood and like 5 strings of pasta a...\n",
       "59     The ripped banana was not only ripped, but pet...\n",
       "60     At least think to refill my water before I str...\n",
       "68     We got the food and apparently they have never...\n",
       "                             ...                        \n",
       "970    I immediately said I wanted to talk to the man...\n",
       "971                      The ambiance isn't much better.\n",
       "972    Unfortunately, it only set us up for disapppoi...\n",
       "973                                The food wasn't good.\n",
       "974    Your servers suck, wait, correction, our serve...\n",
       "975        What happened next was pretty....off putting.\n",
       "976    too bad cause I know it's family owned, I real...\n",
       "977                 Overpriced for what you are getting.\n",
       "978                 I vomited in the bathroom mid lunch.\n",
       "979    I kept looking at the time and it had soon bec...\n",
       "980    I have been to very few places to eat that und...\n",
       "981    We started with the tuna sashimi which was bro...\n",
       "982                              Food was below average.\n",
       "983    It sure does beat the nachos at the movies but...\n",
       "984         All in all, Ha Long Bay was a bit of a flop.\n",
       "985    The problem I have is that they charge $11.99 ...\n",
       "986    Shrimp- When I unwrapped it (I live only 1/2 a...\n",
       "987       It lacked flavor, seemed undercooked, and dry.\n",
       "988    It really is impressive that the place hasn't ...\n",
       "989    I would avoid this place if you are staying in...\n",
       "990    The refried beans that came with my meal were ...\n",
       "991           Spend your money and time some place else.\n",
       "992    A lady at the table next to us found a live gr...\n",
       "993              the presentation of the food was awful.\n",
       "994             I can't tell you how disappointed I was.\n",
       "995    I think food should have flavor and texture an...\n",
       "996                             Appetite instantly gone.\n",
       "997    Overall I was not impressed and would not go b...\n",
       "998    The whole experience was underwhelming, and I ...\n",
       "999    Then, as if I hadn't wasted enough of my life ...\n",
       "Name: Message, Length: 500, dtype: object"
      ]
     },
     "execution_count": 17,
     "metadata": {},
     "output_type": "execute_result"
    }
   ],
   "source": [
    "#look at negative feedback\n",
    "yelp[yelp['Feedback'] == 0].Message"
   ]
  },
  {
   "cell_type": "code",
   "execution_count": 18,
   "metadata": {},
   "outputs": [
    {
     "data": {
      "image/png": "[encoded data removed]",
      "text/plain": [
       "<matplotlib.figure.Figure at 0x274fff7fcf8>"
      ]
     },
     "metadata": {},
     "output_type": "display_data"
    },
    {
     "name": "stdout",
     "output_type": "stream",
     "text": [
      "Number of mislabeled points out of a total 1000 points : 362\n"
     ]
    }
   ],
   "source": [
    "yelp_keywords_negative = ['wasted', 'lacked', 'hate', 'disgusting', 'suck', 'disappointed', 'bad', 'awful', 'slow', 'off putting', 'not']\n",
    "\n",
    "#run the model with negative keywords\n",
    "y_pred, training, testing = feedback_model(yelp, yelp_keywords_negative)"
   ]
  },
  {
   "cell_type": "code",
   "execution_count": 19,
   "metadata": {},
   "outputs": [
    {
     "data": {
      "text/plain": [
       "array([[163, 337],\n",
       "       [ 25, 475]])"
      ]
     },
     "execution_count": 19,
     "metadata": {},
     "output_type": "execute_result"
    }
   ],
   "source": [
    "confusion_matrix(testing, y_pred)"
   ]
  },
  {
   "cell_type": "markdown",
   "metadata": {},
   "source": [
    "**Sensitivity** is 95%, **Specificity** is 32%, **Accuracy** is 63%; overfitting?"
   ]
  },
  {
   "cell_type": "code",
   "execution_count": null,
   "metadata": {
    "collapsed": true
   },
   "outputs": [],
   "source": []
  }
 ],
 "metadata": {
  "kernelspec": {
   "display_name": "Python 3",
   "language": "python",
   "name": "python3"
  },
  "language_info": {
   "codemirror_mode": {
    "name": "ipython",
    "version": 3
   },
   "file_extension": ".py",
   "mimetype": "text/x-python",
   "name": "python",
   "nbconvert_exporter": "python",
   "pygments_lexer": "ipython3",
   "version": "3.6.1"
  }
 },
 "nbformat": 4,
 "nbformat_minor": 2
}
