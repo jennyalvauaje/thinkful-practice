{
 "cells": [
  {
   "cell_type": "markdown",
   "metadata": {},
   "source": [
    "**Look back to the potential experiments in the previous assignment. For one of those experiments, write up the essential points of a research proposal for an improved version of that experiment.**\n",
    "\n",
    "To prevent cheating, a teacher writes three versions of a test. She stacks the three versions together, first all copies of Version A, then all copies of Version B, then all copies of Version C. As students arrive for the exam, each student takes a test. When grading the test, the teacher finds that students who took Version B scored higher than students who took either Version A or Version C. She concludes from this that Version B is easier, and discards it.\n",
    "Problem: Students are cheating on tests.\n",
    "\n",
    "**Hypothesis:** If the teacher gives 3 different versions of the test, students will not cheat.\n",
    "\n",
    "  **Method:**\n",
    "\n",
    "  **Design:** Create 3 different versions of the test (A, B, and C), all of which target the same specific lessons and concepts taught in class. Require the students to use a codename. Deliver the tests by having a randomized stack from which students will pick up their test. Repeat this for several class periods.\n",
    "   \n",
    "  **Analysis:** Grade the tests from each category and class period and record the scores both by version and class period.\n",
    "   \n",
    "  **Benchmarks:** If scores between versions are comparable (i.e., the distribution of scores from version A is roughly the same of that with version B, and so forth), conclude students are not cheating when given multiple variations of a test. If one version is consistently being given one letter grade higher or lower than the average of all tests, consider that version to be significantly more difficult or easy than the others. If scores increase from one class period to the next, rerun the experiment with different variables; a couple possible reasons for this are: \n",
    "Students from earlier periods passing along information\n",
    "Time of day affecting student scores\n",
    "\n"
   ]
  }
 ],
 "metadata": {
  "kernelspec": {
   "display_name": "Python 3",
   "language": "python",
   "name": "python3"
  },
  "language_info": {
   "codemirror_mode": {
    "name": "ipython",
    "version": 3
   },
   "file_extension": ".py",
   "mimetype": "text/x-python",
   "name": "python",
   "nbconvert_exporter": "python",
   "pygments_lexer": "ipython3",
   "version": "3.6.1"
  }
 },
 "nbformat": 4,
 "nbformat_minor": 2
}
