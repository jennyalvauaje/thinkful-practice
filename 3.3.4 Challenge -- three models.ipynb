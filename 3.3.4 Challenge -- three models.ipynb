{
 "cells": [
  {
   "cell_type": "markdown",
   "metadata": {},
   "source": [
    "Engineer your features, then create three models. Each model will be run on a training set and a test-set (or multiple test-sets, if you take a folds approach). The models should be:\n",
    "\n",
    "* Vanilla logistic regression\n",
    "\n",
    "* Ridge logistic regression\n",
    "\n",
    "* Lasso logistic regression\n",
    "\n",
    "If you're stuck on how to begin combining your two new modeling skills, here's a hint: the SKlearn LogisticRegression method has a \"penalty\" argument that takes either 'l1' or 'l2' as a value.\n",
    "\n",
    "In your report, evaluate all three models and decide on your best. Be clear about the decisions you made that led to these models (feature selection, regularization parameter selection, model evaluation criteria) and why you think that particular model is the best of the three. Also reflect on the strengths and limitations of regression as a modeling approach. Were there things you couldn't do but you wish you could have done?"
   ]
  },
  {
   "cell_type": "code",
   "execution_count": 56,
   "metadata": {
    "collapsed": true
   },
   "outputs": [],
   "source": [
    "import pandas as pd\n",
    "from matplotlib import pyplot as plt\n",
    "import numpy as np\n",
    "import math\n",
    "import seaborn as sns\n",
    "import sklearn\n",
    "from sklearn import linear_model\n",
    "from sklearn import preprocessing\n",
    "%matplotlib inline"
   ]
  },
  {
   "cell_type": "code",
   "execution_count": 58,
   "metadata": {},
   "outputs": [
    {
     "data": {
      "text/html": [
       "<div>\n",
       "<style>\n",
       "    .dataframe thead tr:only-child th {\n",
       "        text-align: right;\n",
       "    }\n",
       "\n",
       "    .dataframe thead th {\n",
       "        text-align: left;\n",
       "    }\n",
       "\n",
       "    .dataframe tbody tr th {\n",
       "        vertical-align: top;\n",
       "    }\n",
       "</style>\n",
       "<table border=\"1\" class=\"dataframe\">\n",
       "  <thead>\n",
       "    <tr style=\"text-align: right;\">\n",
       "      <th></th>\n",
       "      <th>date</th>\n",
       "      <th>home_team</th>\n",
       "      <th>away_team</th>\n",
       "      <th>home_score</th>\n",
       "      <th>away_score</th>\n",
       "      <th>tournament</th>\n",
       "      <th>city</th>\n",
       "      <th>country</th>\n",
       "      <th>neutral</th>\n",
       "    </tr>\n",
       "  </thead>\n",
       "  <tbody>\n",
       "    <tr>\n",
       "      <th>0</th>\n",
       "      <td>1872-11-30</td>\n",
       "      <td>Scotland</td>\n",
       "      <td>England</td>\n",
       "      <td>0</td>\n",
       "      <td>0</td>\n",
       "      <td>Friendly</td>\n",
       "      <td>Glasgow</td>\n",
       "      <td>Scotland</td>\n",
       "      <td>False</td>\n",
       "    </tr>\n",
       "    <tr>\n",
       "      <th>1</th>\n",
       "      <td>1873-03-08</td>\n",
       "      <td>England</td>\n",
       "      <td>Scotland</td>\n",
       "      <td>4</td>\n",
       "      <td>2</td>\n",
       "      <td>Friendly</td>\n",
       "      <td>London</td>\n",
       "      <td>England</td>\n",
       "      <td>False</td>\n",
       "    </tr>\n",
       "    <tr>\n",
       "      <th>2</th>\n",
       "      <td>1874-03-07</td>\n",
       "      <td>Scotland</td>\n",
       "      <td>England</td>\n",
       "      <td>2</td>\n",
       "      <td>1</td>\n",
       "      <td>Friendly</td>\n",
       "      <td>Glasgow</td>\n",
       "      <td>Scotland</td>\n",
       "      <td>False</td>\n",
       "    </tr>\n",
       "    <tr>\n",
       "      <th>3</th>\n",
       "      <td>1875-03-06</td>\n",
       "      <td>England</td>\n",
       "      <td>Scotland</td>\n",
       "      <td>2</td>\n",
       "      <td>2</td>\n",
       "      <td>Friendly</td>\n",
       "      <td>London</td>\n",
       "      <td>England</td>\n",
       "      <td>False</td>\n",
       "    </tr>\n",
       "    <tr>\n",
       "      <th>4</th>\n",
       "      <td>1876-03-04</td>\n",
       "      <td>Scotland</td>\n",
       "      <td>England</td>\n",
       "      <td>3</td>\n",
       "      <td>0</td>\n",
       "      <td>Friendly</td>\n",
       "      <td>Glasgow</td>\n",
       "      <td>Scotland</td>\n",
       "      <td>False</td>\n",
       "    </tr>\n",
       "  </tbody>\n",
       "</table>\n",
       "</div>"
      ],
      "text/plain": [
       "         date home_team away_team  home_score  away_score tournament     city  \\\n",
       "0  1872-11-30  Scotland   England           0           0   Friendly  Glasgow   \n",
       "1  1873-03-08   England  Scotland           4           2   Friendly   London   \n",
       "2  1874-03-07  Scotland   England           2           1   Friendly  Glasgow   \n",
       "3  1875-03-06   England  Scotland           2           2   Friendly   London   \n",
       "4  1876-03-04  Scotland   England           3           0   Friendly  Glasgow   \n",
       "\n",
       "    country  neutral  \n",
       "0  Scotland    False  \n",
       "1   England    False  \n",
       "2  Scotland    False  \n",
       "3   England    False  \n",
       "4  Scotland    False  "
      ]
     },
     "execution_count": 58,
     "metadata": {},
     "output_type": "execute_result"
    }
   ],
   "source": [
    "football = pd.read_csv(\"/Users/Jenny/Documents/Thinkful/international football data/results.csv\")\n",
    "football.head()"
   ]
  },
  {
   "cell_type": "code",
   "execution_count": 65,
   "metadata": {},
   "outputs": [
    {
     "name": "stdout",
     "output_type": "stream",
     "text": [
      "<class 'pandas.core.frame.DataFrame'>\n",
      "RangeIndex: 38929 entries, 0 to 38928\n",
      "Data columns (total 9 columns):\n",
      "date          38929 non-null object\n",
      "home_team     38929 non-null object\n",
      "away_team     38929 non-null object\n",
      "home_score    38929 non-null int64\n",
      "away_score    38929 non-null int64\n",
      "tournament    38929 non-null object\n",
      "city          38929 non-null object\n",
      "country       38929 non-null object\n",
      "neutral       38929 non-null bool\n",
      "dtypes: bool(1), int64(2), object(6)\n",
      "memory usage: 2.4+ MB\n"
     ]
    }
   ],
   "source": [
    "football.info()"
   ]
  },
  {
   "cell_type": "code",
   "execution_count": 84,
   "metadata": {
    "scrolled": false
   },
   "outputs": [
    {
     "data": {
      "text/html": [
       "<div>\n",
       "<style>\n",
       "    .dataframe thead tr:only-child th {\n",
       "        text-align: right;\n",
       "    }\n",
       "\n",
       "    .dataframe thead th {\n",
       "        text-align: left;\n",
       "    }\n",
       "\n",
       "    .dataframe tbody tr th {\n",
       "        vertical-align: top;\n",
       "    }\n",
       "</style>\n",
       "<table border=\"1\" class=\"dataframe\">\n",
       "  <thead>\n",
       "    <tr style=\"text-align: right;\">\n",
       "      <th></th>\n",
       "      <th>date</th>\n",
       "      <th>home_team</th>\n",
       "      <th>away_team</th>\n",
       "      <th>home_score</th>\n",
       "      <th>away_score</th>\n",
       "      <th>tournament</th>\n",
       "      <th>city</th>\n",
       "      <th>country</th>\n",
       "      <th>neutral</th>\n",
       "    </tr>\n",
       "  </thead>\n",
       "  <tbody>\n",
       "    <tr>\n",
       "      <th>602</th>\n",
       "      <td>1921-12-18</td>\n",
       "      <td>Spain</td>\n",
       "      <td>Portugal</td>\n",
       "      <td>3</td>\n",
       "      <td>1</td>\n",
       "      <td>Friendly</td>\n",
       "      <td>Madrid</td>\n",
       "      <td>Spain</td>\n",
       "      <td>False</td>\n",
       "    </tr>\n",
       "    <tr>\n",
       "      <th>673</th>\n",
       "      <td>1923-01-28</td>\n",
       "      <td>Spain</td>\n",
       "      <td>France</td>\n",
       "      <td>3</td>\n",
       "      <td>0</td>\n",
       "      <td>Friendly</td>\n",
       "      <td>San Sebastián</td>\n",
       "      <td>Spain</td>\n",
       "      <td>False</td>\n",
       "    </tr>\n",
       "    <tr>\n",
       "      <th>753</th>\n",
       "      <td>1923-12-16</td>\n",
       "      <td>Spain</td>\n",
       "      <td>Portugal</td>\n",
       "      <td>3</td>\n",
       "      <td>0</td>\n",
       "      <td>Friendly</td>\n",
       "      <td>Seville</td>\n",
       "      <td>Spain</td>\n",
       "      <td>False</td>\n",
       "    </tr>\n",
       "    <tr>\n",
       "      <th>833</th>\n",
       "      <td>1924-12-21</td>\n",
       "      <td>Spain</td>\n",
       "      <td>Austria</td>\n",
       "      <td>2</td>\n",
       "      <td>1</td>\n",
       "      <td>Friendly</td>\n",
       "      <td>Barcelona</td>\n",
       "      <td>Spain</td>\n",
       "      <td>False</td>\n",
       "    </tr>\n",
       "    <tr>\n",
       "      <th>864</th>\n",
       "      <td>1925-06-14</td>\n",
       "      <td>Spain</td>\n",
       "      <td>Italy</td>\n",
       "      <td>1</td>\n",
       "      <td>0</td>\n",
       "      <td>Friendly</td>\n",
       "      <td>Valencia</td>\n",
       "      <td>Spain</td>\n",
       "      <td>False</td>\n",
       "    </tr>\n",
       "  </tbody>\n",
       "</table>\n",
       "</div>"
      ],
      "text/plain": [
       "           date home_team away_team  home_score  away_score tournament  \\\n",
       "602  1921-12-18     Spain  Portugal           3           1   Friendly   \n",
       "673  1923-01-28     Spain    France           3           0   Friendly   \n",
       "753  1923-12-16     Spain  Portugal           3           0   Friendly   \n",
       "833  1924-12-21     Spain   Austria           2           1   Friendly   \n",
       "864  1925-06-14     Spain     Italy           1           0   Friendly   \n",
       "\n",
       "              city country  neutral  \n",
       "602         Madrid   Spain    False  \n",
       "673  San Sebastián   Spain    False  \n",
       "753        Seville   Spain    False  \n",
       "833      Barcelona   Spain    False  \n",
       "864       Valencia   Spain    False  "
      ]
     },
     "execution_count": 84,
     "metadata": {},
     "output_type": "execute_result"
    }
   ],
   "source": [
    "#let's look at a dataframe where spain is the hometeam:\n",
    "#our binary outcome will be: did spain win?\n",
    "spain = football[(football.home_team == 'Spain')]                              \n",
    "pd.DataFrame(spain)\n",
    "spain.head()"
   ]
  },
  {
   "cell_type": "code",
   "execution_count": 17,
   "metadata": {},
   "outputs": [
    {
     "name": "stdout",
     "output_type": "stream",
     "text": [
      "2.32378223495702\n",
      "0.7449856733524355\n"
     ]
    }
   ],
   "source": [
    "print(spain['home_score'].mean())\n",
    "print(spain['away_score'].mean())"
   ]
  },
  {
   "cell_type": "markdown",
   "metadata": {},
   "source": [
    "### Feature engineering"
   ]
  },
  {
   "cell_type": "code",
   "execution_count": 73,
   "metadata": {},
   "outputs": [
    {
     "data": {
      "text/html": [
       "<div>\n",
       "<style>\n",
       "    .dataframe thead tr:only-child th {\n",
       "        text-align: right;\n",
       "    }\n",
       "\n",
       "    .dataframe thead th {\n",
       "        text-align: left;\n",
       "    }\n",
       "\n",
       "    .dataframe tbody tr th {\n",
       "        vertical-align: top;\n",
       "    }\n",
       "</style>\n",
       "<table border=\"1\" class=\"dataframe\">\n",
       "  <thead>\n",
       "    <tr style=\"text-align: right;\">\n",
       "      <th></th>\n",
       "      <th>date</th>\n",
       "      <th>home_team</th>\n",
       "      <th>away_team</th>\n",
       "      <th>home_score</th>\n",
       "      <th>away_score</th>\n",
       "      <th>tournament</th>\n",
       "      <th>city</th>\n",
       "      <th>country</th>\n",
       "      <th>neutral</th>\n",
       "      <th>away_score_large</th>\n",
       "      <th>home_score_large</th>\n",
       "      <th>friendly</th>\n",
       "      <th>world_cup_qual</th>\n",
       "      <th>spain_win</th>\n",
       "    </tr>\n",
       "  </thead>\n",
       "  <tbody>\n",
       "    <tr>\n",
       "      <th>0</th>\n",
       "      <td>1872-11-30</td>\n",
       "      <td>Scotland</td>\n",
       "      <td>England</td>\n",
       "      <td>0</td>\n",
       "      <td>0.0</td>\n",
       "      <td>Friendly</td>\n",
       "      <td>Glasgow</td>\n",
       "      <td>Scotland</td>\n",
       "      <td>0</td>\n",
       "      <td>0.0</td>\n",
       "      <td>0.0</td>\n",
       "      <td>1.0</td>\n",
       "      <td>0.0</td>\n",
       "      <td>0</td>\n",
       "    </tr>\n",
       "    <tr>\n",
       "      <th>1</th>\n",
       "      <td>1873-03-08</td>\n",
       "      <td>England</td>\n",
       "      <td>Scotland</td>\n",
       "      <td>4</td>\n",
       "      <td>2.0</td>\n",
       "      <td>Friendly</td>\n",
       "      <td>London</td>\n",
       "      <td>England</td>\n",
       "      <td>0</td>\n",
       "      <td>1.0</td>\n",
       "      <td>1.0</td>\n",
       "      <td>1.0</td>\n",
       "      <td>0.0</td>\n",
       "      <td>1</td>\n",
       "    </tr>\n",
       "    <tr>\n",
       "      <th>2</th>\n",
       "      <td>1874-03-07</td>\n",
       "      <td>Scotland</td>\n",
       "      <td>England</td>\n",
       "      <td>2</td>\n",
       "      <td>1.0</td>\n",
       "      <td>Friendly</td>\n",
       "      <td>Glasgow</td>\n",
       "      <td>Scotland</td>\n",
       "      <td>0</td>\n",
       "      <td>0.0</td>\n",
       "      <td>1.0</td>\n",
       "      <td>1.0</td>\n",
       "      <td>0.0</td>\n",
       "      <td>1</td>\n",
       "    </tr>\n",
       "    <tr>\n",
       "      <th>3</th>\n",
       "      <td>1875-03-06</td>\n",
       "      <td>England</td>\n",
       "      <td>Scotland</td>\n",
       "      <td>2</td>\n",
       "      <td>2.0</td>\n",
       "      <td>Friendly</td>\n",
       "      <td>London</td>\n",
       "      <td>England</td>\n",
       "      <td>0</td>\n",
       "      <td>0.0</td>\n",
       "      <td>1.0</td>\n",
       "      <td>1.0</td>\n",
       "      <td>0.0</td>\n",
       "      <td>0</td>\n",
       "    </tr>\n",
       "    <tr>\n",
       "      <th>4</th>\n",
       "      <td>1876-03-04</td>\n",
       "      <td>Scotland</td>\n",
       "      <td>England</td>\n",
       "      <td>3</td>\n",
       "      <td>0.0</td>\n",
       "      <td>Friendly</td>\n",
       "      <td>Glasgow</td>\n",
       "      <td>Scotland</td>\n",
       "      <td>0</td>\n",
       "      <td>1.0</td>\n",
       "      <td>0.0</td>\n",
       "      <td>1.0</td>\n",
       "      <td>0.0</td>\n",
       "      <td>1</td>\n",
       "    </tr>\n",
       "  </tbody>\n",
       "</table>\n",
       "</div>"
      ],
      "text/plain": [
       "         date home_team away_team  home_score  away_score tournament     city  \\\n",
       "0  1872-11-30  Scotland   England           0         0.0   Friendly  Glasgow   \n",
       "1  1873-03-08   England  Scotland           4         2.0   Friendly   London   \n",
       "2  1874-03-07  Scotland   England           2         1.0   Friendly  Glasgow   \n",
       "3  1875-03-06   England  Scotland           2         2.0   Friendly   London   \n",
       "4  1876-03-04  Scotland   England           3         0.0   Friendly  Glasgow   \n",
       "\n",
       "    country  neutral  away_score_large  home_score_large  friendly  \\\n",
       "0  Scotland        0               0.0               0.0       1.0   \n",
       "1   England        0               1.0               1.0       1.0   \n",
       "2  Scotland        0               0.0               1.0       1.0   \n",
       "3   England        0               0.0               1.0       1.0   \n",
       "4  Scotland        0               1.0               0.0       1.0   \n",
       "\n",
       "   world_cup_qual  spain_win  \n",
       "0             0.0          0  \n",
       "1             0.0          1  \n",
       "2             0.0          1  \n",
       "3             0.0          0  \n",
       "4             0.0          1  "
      ]
     },
     "execution_count": 73,
     "metadata": {},
     "output_type": "execute_result"
    }
   ],
   "source": [
    "numerical_columns = spain.columns[4:5]\n",
    "for num_col in numerical_columns:\n",
    "    spain[num_col]= spain[num_col].apply(lambda x: float(x))\n",
    "    \n",
    "numerical_columns2 = spain.columns[9:13]\n",
    "for num_col in numerical_columns2:\n",
    "    spain[num_col]= spain[num_col].apply(lambda x: float(x))\n",
    "    \n",
    "spain.head()"
   ]
  },
  {
   "cell_type": "code",
   "execution_count": 102,
   "metadata": {},
   "outputs": [],
   "source": [
    "spain['away_score_large'] = np.where(spain['home_score'] > 2, 1, 0)\n",
    "spain['home_score_large'] = np.where(spain['away_score'] > 0, 1, 0) \n",
    "spain['neutral'] = np.where(spain['neutral'] == True, 1, 0)\n",
    "spain['friendly'] = np.where(spain['tournament'] == 'Friendly', 1, 0)\n",
    "spain['world_cup_qual'] = np.where(spain['tournament'] == 'FIFA World Cup qualification', 1, 0)"
   ]
  },
  {
   "cell_type": "code",
   "execution_count": 75,
   "metadata": {},
   "outputs": [
    {
     "data": {
      "text/html": [
       "<div>\n",
       "<style>\n",
       "    .dataframe thead tr:only-child th {\n",
       "        text-align: right;\n",
       "    }\n",
       "\n",
       "    .dataframe thead th {\n",
       "        text-align: left;\n",
       "    }\n",
       "\n",
       "    .dataframe tbody tr th {\n",
       "        vertical-align: top;\n",
       "    }\n",
       "</style>\n",
       "<table border=\"1\" class=\"dataframe\">\n",
       "  <thead>\n",
       "    <tr style=\"text-align: right;\">\n",
       "      <th></th>\n",
       "      <th>date</th>\n",
       "      <th>home_team</th>\n",
       "      <th>away_team</th>\n",
       "      <th>home_score</th>\n",
       "      <th>away_score</th>\n",
       "      <th>tournament</th>\n",
       "      <th>city</th>\n",
       "      <th>country</th>\n",
       "      <th>neutral</th>\n",
       "      <th>away_score_large</th>\n",
       "      <th>home_score_large</th>\n",
       "      <th>friendly</th>\n",
       "      <th>world_cup_qual</th>\n",
       "      <th>spain_win</th>\n",
       "    </tr>\n",
       "  </thead>\n",
       "  <tbody>\n",
       "    <tr>\n",
       "      <th>0</th>\n",
       "      <td>1872-11-30</td>\n",
       "      <td>Scotland</td>\n",
       "      <td>England</td>\n",
       "      <td>0</td>\n",
       "      <td>0.0</td>\n",
       "      <td>Friendly</td>\n",
       "      <td>Glasgow</td>\n",
       "      <td>Scotland</td>\n",
       "      <td>0</td>\n",
       "      <td>0</td>\n",
       "      <td>0</td>\n",
       "      <td>1</td>\n",
       "      <td>0</td>\n",
       "      <td>0</td>\n",
       "    </tr>\n",
       "    <tr>\n",
       "      <th>1</th>\n",
       "      <td>1873-03-08</td>\n",
       "      <td>England</td>\n",
       "      <td>Scotland</td>\n",
       "      <td>4</td>\n",
       "      <td>2.0</td>\n",
       "      <td>Friendly</td>\n",
       "      <td>London</td>\n",
       "      <td>England</td>\n",
       "      <td>0</td>\n",
       "      <td>1</td>\n",
       "      <td>1</td>\n",
       "      <td>1</td>\n",
       "      <td>0</td>\n",
       "      <td>1</td>\n",
       "    </tr>\n",
       "    <tr>\n",
       "      <th>2</th>\n",
       "      <td>1874-03-07</td>\n",
       "      <td>Scotland</td>\n",
       "      <td>England</td>\n",
       "      <td>2</td>\n",
       "      <td>1.0</td>\n",
       "      <td>Friendly</td>\n",
       "      <td>Glasgow</td>\n",
       "      <td>Scotland</td>\n",
       "      <td>0</td>\n",
       "      <td>0</td>\n",
       "      <td>1</td>\n",
       "      <td>1</td>\n",
       "      <td>0</td>\n",
       "      <td>1</td>\n",
       "    </tr>\n",
       "    <tr>\n",
       "      <th>3</th>\n",
       "      <td>1875-03-06</td>\n",
       "      <td>England</td>\n",
       "      <td>Scotland</td>\n",
       "      <td>2</td>\n",
       "      <td>2.0</td>\n",
       "      <td>Friendly</td>\n",
       "      <td>London</td>\n",
       "      <td>England</td>\n",
       "      <td>0</td>\n",
       "      <td>0</td>\n",
       "      <td>1</td>\n",
       "      <td>1</td>\n",
       "      <td>0</td>\n",
       "      <td>0</td>\n",
       "    </tr>\n",
       "    <tr>\n",
       "      <th>4</th>\n",
       "      <td>1876-03-04</td>\n",
       "      <td>Scotland</td>\n",
       "      <td>England</td>\n",
       "      <td>3</td>\n",
       "      <td>0.0</td>\n",
       "      <td>Friendly</td>\n",
       "      <td>Glasgow</td>\n",
       "      <td>Scotland</td>\n",
       "      <td>0</td>\n",
       "      <td>1</td>\n",
       "      <td>0</td>\n",
       "      <td>1</td>\n",
       "      <td>0</td>\n",
       "      <td>1</td>\n",
       "    </tr>\n",
       "  </tbody>\n",
       "</table>\n",
       "</div>"
      ],
      "text/plain": [
       "         date home_team away_team  home_score  away_score tournament     city  \\\n",
       "0  1872-11-30  Scotland   England           0         0.0   Friendly  Glasgow   \n",
       "1  1873-03-08   England  Scotland           4         2.0   Friendly   London   \n",
       "2  1874-03-07  Scotland   England           2         1.0   Friendly  Glasgow   \n",
       "3  1875-03-06   England  Scotland           2         2.0   Friendly   London   \n",
       "4  1876-03-04  Scotland   England           3         0.0   Friendly  Glasgow   \n",
       "\n",
       "    country  neutral  away_score_large  home_score_large  friendly  \\\n",
       "0  Scotland        0                 0                 0         1   \n",
       "1   England        0                 1                 1         1   \n",
       "2  Scotland        0                 0                 1         1   \n",
       "3   England        0                 0                 1         1   \n",
       "4  Scotland        0                 1                 0         1   \n",
       "\n",
       "   world_cup_qual  spain_win  \n",
       "0               0          0  \n",
       "1               0          1  \n",
       "2               0          1  \n",
       "3               0          0  \n",
       "4               0          1  "
      ]
     },
     "execution_count": 75,
     "metadata": {},
     "output_type": "execute_result"
    }
   ],
   "source": [
    "spain.head()"
   ]
  },
  {
   "cell_type": "code",
   "execution_count": 108,
   "metadata": {
    "scrolled": true
   },
   "outputs": [
    {
     "data": {
      "text/html": [
       "<div>\n",
       "<style>\n",
       "    .dataframe thead tr:only-child th {\n",
       "        text-align: right;\n",
       "    }\n",
       "\n",
       "    .dataframe thead th {\n",
       "        text-align: left;\n",
       "    }\n",
       "\n",
       "    .dataframe tbody tr th {\n",
       "        vertical-align: top;\n",
       "    }\n",
       "</style>\n",
       "<table border=\"1\" class=\"dataframe\">\n",
       "  <thead>\n",
       "    <tr style=\"text-align: right;\">\n",
       "      <th></th>\n",
       "      <th>home_score</th>\n",
       "      <th>away_score</th>\n",
       "      <th>neutral</th>\n",
       "      <th>away_score_large</th>\n",
       "      <th>home_score_large</th>\n",
       "      <th>friendly</th>\n",
       "      <th>world_cup_qual</th>\n",
       "    </tr>\n",
       "  </thead>\n",
       "  <tbody>\n",
       "    <tr>\n",
       "      <th>602</th>\n",
       "      <td>3</td>\n",
       "      <td>1</td>\n",
       "      <td>0</td>\n",
       "      <td>1</td>\n",
       "      <td>1</td>\n",
       "      <td>1</td>\n",
       "      <td>0</td>\n",
       "    </tr>\n",
       "    <tr>\n",
       "      <th>673</th>\n",
       "      <td>3</td>\n",
       "      <td>0</td>\n",
       "      <td>0</td>\n",
       "      <td>1</td>\n",
       "      <td>0</td>\n",
       "      <td>1</td>\n",
       "      <td>0</td>\n",
       "    </tr>\n",
       "    <tr>\n",
       "      <th>753</th>\n",
       "      <td>3</td>\n",
       "      <td>0</td>\n",
       "      <td>0</td>\n",
       "      <td>1</td>\n",
       "      <td>0</td>\n",
       "      <td>1</td>\n",
       "      <td>0</td>\n",
       "    </tr>\n",
       "    <tr>\n",
       "      <th>833</th>\n",
       "      <td>2</td>\n",
       "      <td>1</td>\n",
       "      <td>0</td>\n",
       "      <td>0</td>\n",
       "      <td>1</td>\n",
       "      <td>1</td>\n",
       "      <td>0</td>\n",
       "    </tr>\n",
       "    <tr>\n",
       "      <th>864</th>\n",
       "      <td>1</td>\n",
       "      <td>0</td>\n",
       "      <td>0</td>\n",
       "      <td>0</td>\n",
       "      <td>0</td>\n",
       "      <td>1</td>\n",
       "      <td>0</td>\n",
       "    </tr>\n",
       "  </tbody>\n",
       "</table>\n",
       "</div>"
      ],
      "text/plain": [
       "     home_score  away_score  neutral  away_score_large  home_score_large  \\\n",
       "602           3           1        0                 1                 1   \n",
       "673           3           0        0                 1                 0   \n",
       "753           3           0        0                 1                 0   \n",
       "833           2           1        0                 0                 1   \n",
       "864           1           0        0                 0                 0   \n",
       "\n",
       "     friendly  world_cup_qual  \n",
       "602         1               0  \n",
       "673         1               0  \n",
       "753         1               0  \n",
       "833         1               0  \n",
       "864         1               0  "
      ]
     },
     "execution_count": 108,
     "metadata": {},
     "output_type": "execute_result"
    }
   ],
   "source": [
    "new_spain = spain[['home_score', 'away_score', 'neutral', 'away_score_large', 'home_score_large', 'friendly', 'world_cup_qual']]\n",
    "new_spain.head()"
   ]
  },
  {
   "cell_type": "code",
   "execution_count": 109,
   "metadata": {},
   "outputs": [
    {
     "name": "stderr",
     "output_type": "stream",
     "text": [
      "C:\\Users\\Jenny\\Anaconda3\\lib\\site-packages\\ipykernel_launcher.py:2: SettingWithCopyWarning: \n",
      "A value is trying to be set on a copy of a slice from a DataFrame.\n",
      "Try using .loc[row_indexer,col_indexer] = value instead\n",
      "\n",
      "See the caveats in the documentation: http://pandas.pydata.org/pandas-docs/stable/indexing.html#indexing-view-versus-copy\n",
      "  \n"
     ]
    },
    {
     "data": {
      "text/html": [
       "<div>\n",
       "<style>\n",
       "    .dataframe thead tr:only-child th {\n",
       "        text-align: right;\n",
       "    }\n",
       "\n",
       "    .dataframe thead th {\n",
       "        text-align: left;\n",
       "    }\n",
       "\n",
       "    .dataframe tbody tr th {\n",
       "        vertical-align: top;\n",
       "    }\n",
       "</style>\n",
       "<table border=\"1\" class=\"dataframe\">\n",
       "  <thead>\n",
       "    <tr style=\"text-align: right;\">\n",
       "      <th></th>\n",
       "      <th>home_score</th>\n",
       "      <th>away_score</th>\n",
       "      <th>neutral</th>\n",
       "      <th>away_score_large</th>\n",
       "      <th>home_score_large</th>\n",
       "      <th>friendly</th>\n",
       "      <th>world_cup_qual</th>\n",
       "      <th>spain_win</th>\n",
       "    </tr>\n",
       "  </thead>\n",
       "  <tbody>\n",
       "    <tr>\n",
       "      <th>602</th>\n",
       "      <td>3</td>\n",
       "      <td>1</td>\n",
       "      <td>0</td>\n",
       "      <td>1</td>\n",
       "      <td>1</td>\n",
       "      <td>1</td>\n",
       "      <td>0</td>\n",
       "      <td>1</td>\n",
       "    </tr>\n",
       "    <tr>\n",
       "      <th>673</th>\n",
       "      <td>3</td>\n",
       "      <td>0</td>\n",
       "      <td>0</td>\n",
       "      <td>1</td>\n",
       "      <td>0</td>\n",
       "      <td>1</td>\n",
       "      <td>0</td>\n",
       "      <td>1</td>\n",
       "    </tr>\n",
       "    <tr>\n",
       "      <th>753</th>\n",
       "      <td>3</td>\n",
       "      <td>0</td>\n",
       "      <td>0</td>\n",
       "      <td>1</td>\n",
       "      <td>0</td>\n",
       "      <td>1</td>\n",
       "      <td>0</td>\n",
       "      <td>1</td>\n",
       "    </tr>\n",
       "    <tr>\n",
       "      <th>833</th>\n",
       "      <td>2</td>\n",
       "      <td>1</td>\n",
       "      <td>0</td>\n",
       "      <td>0</td>\n",
       "      <td>1</td>\n",
       "      <td>1</td>\n",
       "      <td>0</td>\n",
       "      <td>1</td>\n",
       "    </tr>\n",
       "    <tr>\n",
       "      <th>864</th>\n",
       "      <td>1</td>\n",
       "      <td>0</td>\n",
       "      <td>0</td>\n",
       "      <td>0</td>\n",
       "      <td>0</td>\n",
       "      <td>1</td>\n",
       "      <td>0</td>\n",
       "      <td>1</td>\n",
       "    </tr>\n",
       "  </tbody>\n",
       "</table>\n",
       "</div>"
      ],
      "text/plain": [
       "     home_score  away_score  neutral  away_score_large  home_score_large  \\\n",
       "602           3           1        0                 1                 1   \n",
       "673           3           0        0                 1                 0   \n",
       "753           3           0        0                 1                 0   \n",
       "833           2           1        0                 0                 1   \n",
       "864           1           0        0                 0                 0   \n",
       "\n",
       "     friendly  world_cup_qual  spain_win  \n",
       "602         1               0          1  \n",
       "673         1               0          1  \n",
       "753         1               0          1  \n",
       "833         1               0          1  \n",
       "864         1               0          1  "
      ]
     },
     "execution_count": 109,
     "metadata": {},
     "output_type": "execute_result"
    }
   ],
   "source": [
    "spain_copy = new_spain\n",
    "spain_copy['spain_win'] = np.where(spain_copy['home_score'] > spain_copy['away_score'], 1, 0)\n",
    "spain_copy.head()"
   ]
  },
  {
   "cell_type": "markdown",
   "metadata": {},
   "source": [
    "## Vanilla Logistic Regression"
   ]
  },
  {
   "cell_type": "markdown",
   "metadata": {},
   "source": [
    "### Start with StatsMod "
   ]
  },
  {
   "cell_type": "code",
   "execution_count": 126,
   "metadata": {},
   "outputs": [
    {
     "name": "stdout",
     "output_type": "stream",
     "text": [
      "Optimization terminated successfully.\n",
      "         Current function value: 0.611997\n",
      "         Iterations 5\n",
      "                           Logit Regression Results                           \n",
      "==============================================================================\n",
      "Dep. Variable:              spain_win   No. Observations:                  349\n",
      "Model:                          Logit   Df Residuals:                      346\n",
      "Method:                           MLE   Df Model:                            2\n",
      "Date:                Tue, 17 Jul 2018   Pseudo R-squ.:                 0.02142\n",
      "Time:                        18:48:39   Log-Likelihood:                -213.59\n",
      "converged:                       True   LL-Null:                       -218.26\n",
      "                                        LLR p-value:                  0.009326\n",
      "==============================================================================\n",
      "                 coef    std err          z      P>|z|      [0.025      0.975]\n",
      "------------------------------------------------------------------------------\n",
      "friendly      -0.6234      0.251     -2.483      0.013      -1.115      -0.131\n",
      "neutral       -0.8028      0.331     -2.428      0.015      -1.451      -0.155\n",
      "intercepts     1.2356      0.208      5.949      0.000       0.828       1.643\n",
      "==============================================================================\n"
     ]
    },
    {
     "name": "stderr",
     "output_type": "stream",
     "text": [
      "C:\\Users\\Jenny\\Anaconda3\\lib\\site-packages\\ipykernel_launcher.py:6: SettingWithCopyWarning: \n",
      "A value is trying to be set on a copy of a slice from a DataFrame.\n",
      "Try using .loc[row_indexer,col_indexer] = value instead\n",
      "\n",
      "See the caveats in the documentation: http://pandas.pydata.org/pandas-docs/stable/indexing.html#indexing-view-versus-copy\n",
      "  \n"
     ]
    }
   ],
   "source": [
    "import statsmodels.api as sm\n",
    "#declare predictors: we're seeing if we can predict whether or not\n",
    "#spain will win based off friendly and neutral matches\n",
    "X_statsmod = new_spain[['friendly', 'neutral']]\n",
    "\n",
    "X_statsmod['intercepts'] = 1\n",
    "\n",
    "#declare and fit the model:\n",
    "logit = sm.Logit(spain_copy['spain_win'], X_statsmod)\n",
    "result = logit.fit()\n",
    "\n",
    "print(result.summary())"
   ]
  },
  {
   "cell_type": "code",
   "execution_count": 128,
   "metadata": {},
   "outputs": [
    {
     "name": "stdout",
     "output_type": "stream",
     "text": [
      "\n",
      "Accuracy by win status\n",
      "col_0       0    1\n",
      "spain_win         \n",
      "0          22   89\n",
      "1          13  225\n",
      "\n",
      "Percentage accuracy\n",
      "0.707736389685\n"
     ]
    }
   ],
   "source": [
    "#calc. accuracy. Get probability that each game will be won by spain\n",
    "pred_statsmod = result.predict(X_statsmod)\n",
    "\n",
    "#code win as 1 if probability is greater than .5\n",
    "pred_y_statsmod = np.where(pred_statsmod < .5, 0, 1)\n",
    "\n",
    "#accuracy table\n",
    "table = pd.crosstab(spain_copy['spain_win'], pred_y_statsmod)\n",
    "\n",
    "print('\\nAccuracy by win status')\n",
    "print(table)\n",
    "print('\\nPercentage accuracy')\n",
    "print((table.iloc[0,0] + table.iloc[1,1]) / (table.sum().sum()))"
   ]
  },
  {
   "cell_type": "code",
   "execution_count": 127,
   "metadata": {},
   "outputs": [
    {
     "name": "stdout",
     "output_type": "stream",
     "text": [
      "Optimization terminated successfully.\n",
      "         Current function value: 0.462558\n",
      "         Iterations 9\n",
      "                           Logit Regression Results                           \n",
      "==============================================================================\n",
      "Dep. Variable:              spain_win   No. Observations:                  349\n",
      "Model:                          Logit   Df Residuals:                      346\n",
      "Method:                           MLE   Df Model:                            2\n",
      "Date:                Tue, 17 Jul 2018   Pseudo R-squ.:                  0.2604\n",
      "Time:                        18:49:30   Log-Likelihood:                -161.43\n",
      "converged:                       True   LL-Null:                       -218.26\n",
      "                                        LLR p-value:                 2.086e-25\n",
      "====================================================================================\n",
      "                       coef    std err          z      P>|z|      [0.025      0.975]\n",
      "------------------------------------------------------------------------------------\n",
      "away_score_large     4.7553      1.014      4.690      0.000       2.768       6.742\n",
      "neutral             -0.6593      0.373     -1.769      0.077      -1.390       0.071\n",
      "intercepts           0.1621      0.145      1.121      0.262      -0.121       0.445\n",
      "====================================================================================\n"
     ]
    },
    {
     "name": "stderr",
     "output_type": "stream",
     "text": [
      "C:\\Users\\Jenny\\Anaconda3\\lib\\site-packages\\ipykernel_launcher.py:3: SettingWithCopyWarning: \n",
      "A value is trying to be set on a copy of a slice from a DataFrame.\n",
      "Try using .loc[row_indexer,col_indexer] = value instead\n",
      "\n",
      "See the caveats in the documentation: http://pandas.pydata.org/pandas-docs/stable/indexing.html#indexing-view-versus-copy\n",
      "  This is separate from the ipykernel package so we can avoid doing imports until\n"
     ]
    }
   ],
   "source": [
    "X_statsmod = new_spain[['away_score_large', 'neutral']]\n",
    "\n",
    "X_statsmod['intercepts'] = 1\n",
    "\n",
    "#declare and fit the model:\n",
    "logit = sm.Logit(spain_copy['spain_win'], X_statsmod)\n",
    "result = logit.fit()\n",
    "\n",
    "print(result.summary())"
   ]
  },
  {
   "cell_type": "code",
   "execution_count": 129,
   "metadata": {},
   "outputs": [
    {
     "name": "stdout",
     "output_type": "stream",
     "text": [
      "\n",
      "Accuracy by win status\n",
      "col_0       0    1\n",
      "spain_win         \n",
      "0          22   89\n",
      "1          13  225\n",
      "\n",
      "Percentage accuracy\n",
      "0.707736389685\n"
     ]
    }
   ],
   "source": [
    "#calc. accuracy. Get probability that each game will be won by spain\n",
    "pred_statsmod = result.predict(X_statsmod)\n",
    "\n",
    "#code win as 1 if probability is greater than .5\n",
    "pred_y_statsmod = np.where(pred_statsmod < .5, 0, 1)\n",
    "\n",
    "#accuracy table\n",
    "table = pd.crosstab(spain_copy['spain_win'], pred_y_statsmod)\n",
    "\n",
    "print('\\nAccuracy by win status')\n",
    "print(table)\n",
    "print('\\nPercentage accuracy')\n",
    "print((table.iloc[0,0] + table.iloc[1,1]) / (table.sum().sum()))"
   ]
  },
  {
   "cell_type": "markdown",
   "metadata": {},
   "source": [
    "### Now using SKLearn"
   ]
  },
  {
   "cell_type": "code",
   "execution_count": 125,
   "metadata": {},
   "outputs": [
    {
     "name": "stdout",
     "output_type": "stream",
     "text": [
      "Coefficients\n",
      "[[ 4.75449729 -0.6592537 ]]\n",
      "[ 0.16207944]\n",
      "\n",
      " Accuracy by admission status\n",
      "spain_win   0    1\n",
      "row_0             \n",
      "0          22   13\n",
      "1          89  225\n",
      "\n",
      " Percentage accuracy\n",
      "0.707736389685\n"
     ]
    }
   ],
   "source": [
    "# Declare a logistic regression classifier.\n",
    "# Parameter regularization coefficient C described above.\n",
    "lr = LogisticRegression(C=1e9)\n",
    "y = spain_copy['spain_win']\n",
    "X = new_spain[['away_score_large', 'neutral']]\n",
    "\n",
    "# Fit the model.\n",
    "fit = lr.fit(X, y)\n",
    "\n",
    "# Display.\n",
    "print('Coefficients')\n",
    "print(fit.coef_)\n",
    "print(fit.intercept_)\n",
    "pred_y_sklearn = lr.predict(X)\n",
    "\n",
    "print('\\n Accuracy by win status')\n",
    "print(pd.crosstab(pred_y_sklearn, y))\n",
    "\n",
    "print('\\n Percentage accuracy')\n",
    "print(lr.score(X, y))"
   ]
  },
  {
   "cell_type": "markdown",
   "metadata": {},
   "source": [
    "**Percentage accuracies are the same!**"
   ]
  },
  {
   "cell_type": "markdown",
   "metadata": {},
   "source": [
    "## Ridge Logistic Regression\n",
    "L2 regualrization"
   ]
  },
  {
   "cell_type": "code",
   "execution_count": 130,
   "metadata": {
    "collapsed": true
   },
   "outputs": [],
   "source": [
    "y = spain_copy['spain_win']\n",
    "x = new_spain[['away_score_large', 'neutral']]"
   ]
  },
  {
   "cell_type": "code",
   "execution_count": 136,
   "metadata": {
    "collapsed": true
   },
   "outputs": [],
   "source": [
    "# Generate range of alpha values to pick one resulting in best r squared\n",
    "alphas = np.arange(0.1, 5, 1)\n",
    "lr_ridge = LogisticRegression(penalty='l2')\n",
    "ridge_r_squared = []\n",
    "\n",
    "# Train model with different regularization values\n",
    "for a in alphas:\n",
    "    lr_ridge.set_params(C=a, fit_intercept=False)\n",
    "    lr_ridge.fit(x, y)\n",
    "    y_pred = lr_ridge.predict(x)\n",
    "    ridge_r_squared.append(lr_ridge.score(x, y))"
   ]
  },
  {
   "cell_type": "code",
   "execution_count": 134,
   "metadata": {},
   "outputs": [
    {
     "data": {
      "text/plain": [
       "[0.66189111747851004,\n",
       " 0.66189111747851004,\n",
       " 0.66189111747851004,\n",
       " 0.66189111747851004,\n",
       " 0.66189111747851004,\n",
       " 0.66189111747851004,\n",
       " 0.66189111747851004,\n",
       " 0.66189111747851004,\n",
       " 0.66189111747851004,\n",
       " 0.66189111747851004,\n",
       " 0.66189111747851004,\n",
       " 0.66189111747851004,\n",
       " 0.66189111747851004,\n",
       " 0.66189111747851004,\n",
       " 0.66189111747851004,\n",
       " 0.66189111747851004,\n",
       " 0.66189111747851004,\n",
       " 0.66189111747851004,\n",
       " 0.66189111747851004,\n",
       " 0.66189111747851004]"
      ]
     },
     "execution_count": 134,
     "metadata": {},
     "output_type": "execute_result"
    }
   ],
   "source": [
    "# Get values# Get va \n",
    "ridge_r_squared"
   ]
  },
  {
   "cell_type": "code",
   "execution_count": 137,
   "metadata": {},
   "outputs": [
    {
     "data": {
      "text/plain": [
       "4.0999999999999996"
      ]
     },
     "execution_count": 137,
     "metadata": {},
     "output_type": "execute_result"
    }
   ],
   "source": [
    "# Get alpha corresponding to highest r-squared# Get al \n",
    "alphas[4]"
   ]
  },
  {
   "cell_type": "code",
   "execution_count": 145,
   "metadata": {},
   "outputs": [
    {
     "name": "stdout",
     "output_type": "stream",
     "text": [
      "Coefficient\n",
      "[[ 4.16457697 -0.4626811 ]]\n",
      "0.0\n",
      "\n",
      "Accuracy by win status\n",
      "spain_win    0    1\n",
      "row_0              \n",
      "0          110  117\n",
      "1            1  121\n",
      "\n",
      "Percentage accuracy\n",
      "[ 0.74647887  0.54285714  0.7         0.60869565  0.71014493]\n",
      "Mean: 0.661635319161\n"
     ]
    }
   ],
   "source": [
    "# Not much variation observed by changing penalization coefficient.  Select best one.\n",
    "\n",
    "# Instantiate and set regularization coefficient \n",
    "lr_ridge = LogisticRegression(penalty='l2', C=4.1, fit_intercept=False)\n",
    "\n",
    "# Fit model\n",
    "lr_ridge.fit(x, y)\n",
    "\n",
    "# Get results\n",
    "print('Coefficient')\n",
    "print(lr_ridge.coef_)\n",
    "print(lr_ridge.intercept_)\n",
    "\n",
    "# Get predictions\n",
    "pred_y_r = lr_ridge.predict(x)\n",
    "\n",
    "print('\\nAccuracy by win status')\n",
    "print(pd.crosstab(pred_y_r, y))\n",
    "\n",
    "ridge_scores = cross_val_score(lr_ridge, x, y, cv=5)\n",
    "print('\\nPercentage accuracy')\n",
    "print(ridge_scores)\n",
    "print('Mean:', ridge_scores.mean())"
   ]
  },
  {
   "cell_type": "markdown",
   "metadata": {},
   "source": [
    "* Overall, our accuracy **decreased**.  \n",
    "*why?*"
   ]
  },
  {
   "cell_type": "markdown",
   "metadata": {},
   "source": [
    "## LASSO Logistic Regression\n",
    "L1 Regularization"
   ]
  },
  {
   "cell_type": "code",
   "execution_count": 152,
   "metadata": {
    "collapsed": true
   },
   "outputs": [],
   "source": [
    "# Repeat iterative process to find best value of penalization coefficient# Repeat \n",
    "\n",
    "# Generate range of alpha values\n",
    "alphas = np.arange(0.01, 1, 0.1)\n",
    "lr_lasso = LogisticRegression(penalty='l1')\n",
    "lasso_r_squared = []\n",
    "\n",
    "# Train model with different regularization values\n",
    "for a in alphas:\n",
    "    lr_lasso.set_params(C=a, fit_intercept=False)\n",
    "    lr_lasso.fit(x, y)\n",
    "    y_pred = lr_lasso.predict(x)\n",
    "    lasso_r_squared.append(lr_lasso.score(x, y))"
   ]
  },
  {
   "cell_type": "code",
   "execution_count": 153,
   "metadata": {},
   "outputs": [
    {
     "data": {
      "text/plain": [
       "[0.31805157593123207,\n",
       " 0.66189111747851004,\n",
       " 0.66189111747851004,\n",
       " 0.66189111747851004,\n",
       " 0.66189111747851004,\n",
       " 0.66189111747851004,\n",
       " 0.66189111747851004,\n",
       " 0.66189111747851004,\n",
       " 0.66189111747851004,\n",
       " 0.66189111747851004]"
      ]
     },
     "execution_count": 153,
     "metadata": {},
     "output_type": "execute_result"
    }
   ],
   "source": [
    "# Get values# Get va \n",
    "lasso_r_squared"
   ]
  },
  {
   "cell_type": "code",
   "execution_count": 154,
   "metadata": {},
   "outputs": [
    {
     "name": "stdout",
     "output_type": "stream",
     "text": [
      "Coefficient\n",
      "[[ 3.98549969 -0.47588523]]\n",
      "[ 0.13471575]\n",
      "\n",
      "Accuracy by win status\n",
      "spain_win   0    1\n",
      "row_0             \n",
      "0          22   13\n",
      "1          89  225\n",
      "\n",
      "Percentage accuracy\n",
      "[ 0.69014085  0.68571429  0.72857143  0.72463768  0.71014493]\n",
      "Mean: 0.70784183361\n"
     ]
    }
   ],
   "source": [
    "# Instantiate and set regularization coefficient to selected value\n",
    "lr_lasso = LogisticRegression(penalty='l1', C=0.9)\n",
    "#increading coef. increases accuracy \n",
    "\n",
    "# Fit model\n",
    "lr_lasso.fit(x, y)\n",
    "\n",
    "# Get results\n",
    "print('Coefficient')\n",
    "print(lr_lasso.coef_)\n",
    "print(lr_lasso.intercept_)\n",
    "\n",
    "# Get predictions\n",
    "pred_y_l = lr_lasso.predict(x)\n",
    "\n",
    "print('\\nAccuracy by win status')\n",
    "print(pd.crosstab(pred_y_l, y))\n",
    "\n",
    "lasso_scores = cross_val_score(lr_lasso, x, y, cv=5)\n",
    "print('\\nPercentage accuracy')\n",
    "print(lasso_scores)\n",
    "print('Mean:', lasso_scores.mean())"
   ]
  },
  {
   "cell_type": "markdown",
   "metadata": {},
   "source": [
    "* Accuracy is about the **same** as vanilla logistic regression. "
   ]
  },
  {
   "cell_type": "markdown",
   "metadata": {},
   "source": [
    "### Other interesting things we could look at:\n",
    "* Is using World Cup Qualifying rounds better for prediction accuracy\n",
    "    * Could be used to look at:  *how well does Spain perform under pressure?*\n",
    "* Probably, looking at whether or not Spain scored higher num. of goals than average would be a better predictor.\n",
    "* How well could we predict based *only* on the away team score?\n",
    "* How well does this work if Spain is the away team, not the home team?"
   ]
  },
  {
   "cell_type": "code",
   "execution_count": null,
   "metadata": {
    "collapsed": true
   },
   "outputs": [],
   "source": []
  }
 ],
 "metadata": {
  "kernelspec": {
   "display_name": "Python 3",
   "language": "python",
   "name": "python3"
  },
  "language_info": {
   "codemirror_mode": {
    "name": "ipython",
    "version": 3
   },
   "file_extension": ".py",
   "mimetype": "text/x-python",
   "name": "python",
   "nbconvert_exporter": "python",
   "pygments_lexer": "ipython3",
   "version": "3.6.1"
  }
 },
 "nbformat": 4,
 "nbformat_minor": 2
}
