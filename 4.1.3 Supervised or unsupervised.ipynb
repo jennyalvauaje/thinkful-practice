{
 "cells": [
  {
   "cell_type": "markdown",
   "metadata": {},
   "source": [
    "For each of these scenarios decide if you could use supervised or unsupervised techniques, or both!\n",
    "\n",
    "*note: labeled data can be either, unlabeled data must be unsupervised*\n",
    "\n",
    "**Define the likelihood that an individual will contract a specific disease**\n",
    "* Doesn't sound like it would be labeled, so unsupervised\n",
    "\n",
    "\n",
    "**Translate a set of images into variables for modeling**\n",
    "* Unsupervised\n",
    "\n",
    "\n",
    "**An ecommerce company wants to identify power users**\n",
    "* Probably labeled, so both\n",
    "\n",
    "\n",
    "**That same company wants to see shopping patterns in users**\n",
    "* Again, probably labeled, so both\n",
    "\n",
    "\n",
    "**You want to reduce the number of variables inputting into your random forest model**\n",
    "* Supervised"
   ]
  },
  {
   "cell_type": "code",
   "execution_count": null,
   "metadata": {
    "collapsed": true
   },
   "outputs": [],
   "source": []
  }
 ],
 "metadata": {
  "kernelspec": {
   "display_name": "Python 3",
   "language": "python",
   "name": "python3"
  },
  "language_info": {
   "codemirror_mode": {
    "name": "ipython",
    "version": 3
   },
   "file_extension": ".py",
   "mimetype": "text/x-python",
   "name": "python",
   "nbconvert_exporter": "python",
   "pygments_lexer": "ipython3",
   "version": "3.6.1"
  }
 },
 "nbformat": 4,
 "nbformat_minor": 2
}
