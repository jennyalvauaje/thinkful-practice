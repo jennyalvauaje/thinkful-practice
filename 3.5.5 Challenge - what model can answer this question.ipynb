{
 "cells": [
  {
   "cell_type": "markdown",
   "metadata": {},
   "source": [
    "You now have a fairly substantial starting toolbox of supervised learning methods that you can use to tackle a host of exciting problems. To make sure all of these ideas are organized in your mind, please go through the list of problems below. For each, identify which supervised learning method(s) would be best for addressing that particular problem. Explain your reasoning and discuss your answers with your mentor.\n",
    "\n",
    "\n",
    "Predict the running times of prospective Olympic sprinters using data from the last 20 Olympics.\n",
    "\n",
    "* var is continuous\n",
    "* vanilla OLS or LASSO to increase prediction power and find simpler model.\n",
    "* Potentially ridge, there may be some multicollinearity\n",
    "\n",
    "\n",
    "You have more features (columns) than rows in your dataset.\n",
    "\n",
    "* Ridge to regularize the problem\n",
    "\n",
    "Identify the most important characteristic predicting likelihood of being jailed before age 20.\n",
    "\n",
    "* Gradient boosting -- we get feature importance\n",
    "\n",
    "\n",
    "Implement a filter to “highlight” emails that might be important to the recipient\n",
    "\n",
    "* categorical\n",
    "* Naive Bayes, similar to spam filter, except filtering for important\n",
    "\n",
    "\n",
    "You have 1000+ features.\n",
    "\n",
    "* Lasso may work, may also want to look at gradient boosting\n",
    "\n",
    "Predict whether someone who adds items to their cart on a website will purchase the items.\n",
    "\n",
    "* categorical\n",
    "* Random forest/decision tree\n",
    "\n",
    "\n",
    "Your dataset dimensions are 982400 x 500\n",
    "\n",
    "* Something efficient; Lasso could work\n",
    "\n",
    "\n",
    "Identify faces in an image.\n",
    "\n",
    "* This would be adjacent to deep learning/machine learning\n",
    "* Could SVM be implemented? \n",
    "* If there's a way to classify the images into numbers/vectors, ridge regression or random forest might work\n",
    "\n",
    "\n",
    "Predict which of three flavors of ice cream will be most popular with boys vs girls.\n",
    "\n",
    "* categorical \n",
    "* Random forest, vanilla logistic regression\n"
   ]
  },
  {
   "cell_type": "code",
   "execution_count": null,
   "metadata": {
    "collapsed": true
   },
   "outputs": [],
   "source": []
  }
 ],
 "metadata": {
  "kernelspec": {
   "display_name": "Python 3",
   "language": "python",
   "name": "python3"
  },
  "language_info": {
   "codemirror_mode": {
    "name": "ipython",
    "version": 3
   },
   "file_extension": ".py",
   "mimetype": "text/x-python",
   "name": "python",
   "nbconvert_exporter": "python",
   "pygments_lexer": "ipython3",
   "version": "3.6.1"
  }
 },
 "nbformat": 4,
 "nbformat_minor": 2
}
