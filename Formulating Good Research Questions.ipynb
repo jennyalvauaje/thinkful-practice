{
 "cells": [
  {
   "cell_type": "markdown",
   "metadata": {},
   "source": [
    "What is the 1994 rate of juvenile delinquency in the U.S.?\n",
    "\n",
    "**Bad; for research, a better question would be: What were potential causes of the decrease (or increase) of juvenile delinquency in 1994 in the U.S.?**\n",
    "\n",
    "What can we do to reduce juvenile delinquency in the U.S.?\n",
    "\n",
    "**Good**\n",
    "\n",
    "Does education play a role in reducing juvenile delinquents' return to crime?\n",
    "**Good**\n",
    "\n",
    "How many customers does AT&T currently serve in Washington, DC?\n",
    "\n",
    "**Bad; a better question: Why do some cities use AT&T over other internet providers?**\n",
    "\n",
    "What factors lead consumers to choose AT&T over other service providers?\n",
    "\n",
    "**Good**\n",
    "\n",
    "How can AT&T attract more customers?\n",
    "\n",
    "**Good**\n",
    "\n",
    "Why did the Challenger Shuttle explode?\n",
    "\n",
    "\n",
    "**Good**\n",
    "\n",
    "Which genes are associated with increased risk of breast cancer?\n",
    "\n",
    "**Good**\n",
    "\n",
    "Is it better to read to children at night or in the morning?\n",
    "\n",
    "**Bad; better: How does the time of day children are read to affect their speaking ability.**\n",
    "\n",
    "How does Google’s search algorithm work?\n",
    "\n",
    "**Good**\n"
   ]
  },
  {
   "cell_type": "code",
   "execution_count": null,
   "metadata": {
    "collapsed": true
   },
   "outputs": [],
   "source": []
  }
 ],
 "metadata": {
  "kernelspec": {
   "display_name": "Python 3",
   "language": "python",
   "name": "python3"
  },
  "language_info": {
   "codemirror_mode": {
    "name": "ipython",
    "version": 3
   },
   "file_extension": ".py",
   "mimetype": "text/x-python",
   "name": "python",
   "nbconvert_exporter": "python",
   "pygments_lexer": "ipython3",
   "version": "3.6.1"
  }
 },
 "nbformat": 4,
 "nbformat_minor": 2
}
