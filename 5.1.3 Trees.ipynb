{
 "cells": [
  {
   "cell_type": "code",
   "execution_count": 1,
   "metadata": {
    "collapsed": true
   },
   "outputs": [],
   "source": [
    "#let's make a binary tree of our own\n",
    "\n",
    "class Node:\n",
    "    def __init__(self, val):\n",
    "        self.left = None\n",
    "        self.right = None\n",
    "        self.val = val"
   ]
  },
  {
   "cell_type": "code",
   "execution_count": 6,
   "metadata": {},
   "outputs": [
    {
     "data": {
      "text/plain": [
       "\"# Establish the initial root node and children\\nroot = Node('A')\\nroot.left = Node('B')\\nroot.right = Node('C')\\n\\n# Add the appropriate children for ‘B’ and ‘C’\\nroot.left.left = Node('D')\\nroot.left.right = Node('E')\\nroot.right.left = Node('F')\\nroot.right.right = Node('G')\\n\""
      ]
     },
     "execution_count": 6,
     "metadata": {},
     "output_type": "execute_result"
    }
   ],
   "source": [
    "'''# Establish the initial root node and children\n",
    "root = Node('A')\n",
    "root.left = Node('B')\n",
    "root.right = Node('C')\n",
    "\n",
    "# Add the appropriate children for ‘B’ and ‘C’\n",
    "root.left.left = Node('D')\n",
    "root.left.right = Node('E')\n",
    "root.right.left = Node('F')\n",
    "root.right.right = Node('G')\n",
    "'''"
   ]
  },
  {
   "cell_type": "markdown",
   "metadata": {},
   "source": [
    "Trees are flexible! You can put data into them in a variety of ways, and therefore, get a variety of differently shaped trees. Their flexibility is a **key benefit** of trees.\n",
    "\n",
    "Trees are good for hierarchical data. If you think of your data in layers, then trees can represent that. For example, academic courses -- broken down into department, level, and course -- are a classic example. \n",
    "\n",
    "**Traversing a tree** means seeing the value of all th enodes in a tree and understanding the trees structure. If you are given a tree, you have to traverse it to know what its structure is and values are (**this is like graph theory!**). \n",
    "\n",
    "There are many ways to traverse a tree. The simplest way is *breadth first*. This means you would first explore the full breadth of a layer, one layer at a time. Our example would look like:\n",
    "\n",
    "A, B, C, D, E, F, G\n",
    "\n",
    "Further, you can also read a tree in a preorder fashion, so moving all the way through the left side. Our tree would read:\n",
    "\n",
    "A, B, D, E, C, F, G\n",
    "\n",
    "A.K.A., *depth first* traversal. \n",
    "\n",
    "\n",
    "Binary Heaps are a particular variety of binary tree. They have two defining features. Firstly, the must be complete binary trees. Second the values within the heap either always increase or always decrease as you move from layer to layer. This means every parent must either be greater or less than all children (this property must hold for the whole tree). A minimum binary heap sees the parent as always less than the children, a maximum always greater than."
   ]
  },
  {
   "cell_type": "code",
   "execution_count": 5,
   "metadata": {
    "collapsed": true
   },
   "outputs": [],
   "source": [
    "#drill: implement a binary tree filled with 15 pieces of random data\n",
    "#write a program to traverse the tree using breadth first \n",
    "\n",
    "# Establish root and children\n",
    "root = Node(1)\n",
    "root.left = Node(2)\n",
    "root.right = Node(3)\n",
    "\n",
    "# Add children for 2 and 3\n",
    "root.left.left = Node(4)\n",
    "root.left.right = Node(5)\n",
    "root.right.left = Node(6)\n",
    "root.right.right = Node(7)\n",
    "\n",
    "# Add leaves for 4, 5, 6, and 7\n",
    "root.left.left.left = Node(8)\n",
    "root.left.left.right = Node(9)\n",
    "root.left.right.left = Node(10)\n",
    "root.left.right.right = Node(11)\n",
    "root.right.left.left = Node(12)\n",
    "root.right.left.right = Node(13)\n",
    "root.right.right.left = Node(14)\n",
    "root.right.right.right = Node(15)"
   ]
  },
  {
   "cell_type": "code",
   "execution_count": 15,
   "metadata": {},
   "outputs": [],
   "source": [
    "#fxn to print level order\n",
    "def printLevelOrder(root):\n",
    "    h = height(root)\n",
    "    for i in range(1, h+1):\n",
    "        printGivenLevel(root, i)\n",
    "\n",
    "#fxn to print each level of the tree\n",
    "def printGivenLevel(root, level):\n",
    "    # Skip empty level\n",
    "    if root is None:\n",
    "        return\n",
    "    # Print root if only level\n",
    "    if level == 1:\n",
    "        print(root.val)\n",
    "    # Print left and right for each level\n",
    "    elif level > 1:\n",
    "        printGivenLevel(root.left, level-1)\n",
    "        printGivenLevel(root.right, level-1)\n",
    "\n",
    "# Function to calculate the height of the tree\n",
    "def height(node):\n",
    "    if node is None:\n",
    "        return 0\n",
    "    else:\n",
    "        lheight = height(node.left)\n",
    "        rheight = height(node.right)\n",
    "        # Use the larger height\n",
    "        if lheight > rheight:\n",
    "            return lheight+1\n",
    "        else:\n",
    "            return rheight+1"
   ]
  },
  {
   "cell_type": "code",
   "execution_count": 16,
   "metadata": {},
   "outputs": [
    {
     "name": "stdout",
     "output_type": "stream",
     "text": [
      "1\n",
      "2\n",
      "3\n",
      "4\n",
      "5\n",
      "6\n",
      "7\n",
      "8\n",
      "9\n",
      "10\n",
      "11\n",
      "12\n",
      "13\n",
      "14\n",
      "15\n"
     ]
    }
   ],
   "source": [
    "printLevelOrder(root)"
   ]
  },
  {
   "cell_type": "code",
   "execution_count": null,
   "metadata": {
    "collapsed": true
   },
   "outputs": [],
   "source": []
  }
 ],
 "metadata": {
  "kernelspec": {
   "display_name": "Python 3",
   "language": "python",
   "name": "python3"
  },
  "language_info": {
   "codemirror_mode": {
    "name": "ipython",
    "version": 3
   },
   "file_extension": ".py",
   "mimetype": "text/x-python",
   "name": "python",
   "nbconvert_exporter": "python",
   "pygments_lexer": "ipython3",
   "version": "3.6.1"
  }
 },
 "nbformat": 4,
 "nbformat_minor": 2
}
