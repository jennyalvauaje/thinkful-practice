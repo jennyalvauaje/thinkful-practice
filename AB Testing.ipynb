{
 "cells": [
  {
   "cell_type": "markdown",
   "metadata": {},
   "source": [
    "**For each of the following questions, outline how you could use an A/B test to find an answer. Be sure to identify all five key components of an A/B test we outlined above (two versions, sample, hypothesis, outcome, other variables).**\n",
    "\n",
    "* Does a new supplement help people sleep better? \n",
    "\n",
    "(assuming “better” means “wake up less in the middle of the night”)\n",
    "**Two versions:** people who only change their sleep habit by taking the supplement, people who don’t change their sleep habits\n",
    "\n",
    "**Sample:** We’d want the two groups to both feel like they need help sleeping better, around the same age, the same gender identification, and about the same lifestyle (as in, comparing people who work graveyard shifts and sleep in the daytime to those who work 9-5 and sleep at night is unreasonable)\n",
    "\n",
    "**Hypothesis:** People who take the supplement will wake up in the middle of the night, on average, 50% less than those who don’t.\n",
    "\n",
    "**Outcome:** Our outcome will be based on self-reports of how many times people wake up in the middle of the night for non-anomalous reasons (as in, a sudden fire causing someone to wake up should not be counted).\n",
    "\n",
    "**Other variables:** Depending on our definition of “better”, we might ignore how long it took our sample groups to fall asleep. \n",
    "\n",
    "\n",
    "* Will new uniforms help a gym's business?\n",
    "\n",
    "(assuming “help a gym’s business” means “current gym-goers will be more inclined to buy something at the gym’s juice bar”)\n",
    "\n",
    "**Two versions:** days when the workers are wearing the new uniforms, days when the workers are wearing the old uniforms\n",
    "\n",
    "**Sample:** We’d want the two groups to be as similar as possible, which would be difficult. I think the best way to do this would  be to spend a week wearing the old uniforms, and a week in the same month wearing the new uniforms. Doing this several \n",
    "times in different months would allow for a reasonable set of data.\n",
    "\n",
    "**Hypothesis:** The new uniforms have no impact on juice bar sales.\n",
    "\n",
    "**Outcome:** Our outcome will be based on the number of sales from current gym members; these numbers will be distinguished by weeks with the two different uniforms. \n",
    "\n",
    "**Other variables:** Other variables that we might notice changing are the number of signups and/or lost customers. Additionally, sales at the juice bar may naturally rise in the summer time (for instance), but the key comparison should be between the sales of new vs. old uniforms.\n",
    "\n",
    "\n",
    "* Will a new homepage improve my online exotic pet rental business?\n",
    "\n",
    "(assuming “improve” means “increased rentals”)\n",
    "**Two versions:** People who see the old homepage, people who see the new webpage\n",
    "\n",
    "**Sample:** This is pretty niche, and I’m not sure who exactly is renting exotic pets (people in Hollywood?), but nevertheless: Let’s assume there’s some sort of subscription process to this site, so our two samples will target people who have already opted into getting information. This ensures that both groups have some interest in exotic pets, and probably have the means to rent exotic pets since they’ve subscribed to an exotic pet rental site. \n",
    "\n",
    "**Hypothesis:** People who see the new homepage will be 15% more likely to rent an exotic pet than those who see the old homepage.\n",
    "\n",
    "**Outcome:** Our outcome will be based off number of rentals of exotic pets from this specific website, from people who are subscribed to the newsletter.\n",
    "\n",
    "**Other variables:** We might also note how long someone spends on the homepage, as well as how far they get into the rental process before exiting.\n",
    "\n",
    "\n",
    "* If I put 'please read' in the email subject will more people read my emails?\n",
    "\n",
    "**Two versions:** some emails will be sent with “please read [subject line]” and others will be sent with “[subject line]”\n",
    "\n",
    "**Sample:** our two groups should receive the same emails, including subject lines. The only difference being the inclusion of “please read” in the subject line. Our groups should be in similar relation to the sender (i.e., not comparing the likelihood of an email being read by a friend vs a coworker vs a professor). Furthermore, emails should be sent at the same time.\n",
    "\n",
    "**Hypothesis:** Emails sent with “please read” in the subject line will be 10% more likely to be read than those without. \n",
    "\n",
    "**Outcome:** Our outcome will be based off a database containing information about opened and unopened emails. Beyond that, it will be difficult to decipher if someone read the email if there is no response to it.\n",
    "\n",
    "**Other variables:** We may want to look at reply rates instead of read rates. \n"
   ]
  }
 ],
 "metadata": {
  "kernelspec": {
   "display_name": "Python 3",
   "language": "python",
   "name": "python3"
  },
  "language_info": {
   "codemirror_mode": {
    "name": "ipython",
    "version": 3
   },
   "file_extension": ".py",
   "mimetype": "text/x-python",
   "name": "python",
   "nbconvert_exporter": "python",
   "pygments_lexer": "ipython3",
   "version": "3.6.1"
  }
 },
 "nbformat": 4,
 "nbformat_minor": 2
}
