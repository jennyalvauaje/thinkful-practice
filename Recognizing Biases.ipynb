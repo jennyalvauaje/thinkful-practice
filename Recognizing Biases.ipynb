{
 "cells": [
  {
   "cell_type": "markdown",
   "metadata": {},
   "source": [
    "**For each of the following scenarios, call out the potential biases in the proposed experiment. Do your best to try to discover not only the bias, but the initial design. There is plenty of room for interpretation here, so make sure to state what assumptions you're making.**\n",
    "\n",
    "\n",
    "You're testing advertising emails for a bathing suit company and you test one version of the email in February and the other in May.\n",
    "\n",
    "* At least in the northern hemisphere, few people are purchasing bathing suits in February, so there’s definitely seasonal/temporal bias.\n",
    "\n",
    "\n",
    "\n",
    "\n",
    "You open a clinic to treat anxiety and find that the people who visit show a higher rate of anxiety than the general population.\n",
    "\n",
    "* If I open a clinic that is targeting folks with anxiety, then I should expect my clients to have more anxiety than the general population.\n",
    "\n",
    "\n",
    "\n",
    "\n",
    "You launch a new ad billboard based campaign and see an increase in website visits in the first week.\n",
    " \n",
    "* The novelty of the billboard probably inclined people to check out the website.\n",
    "\n",
    "\n",
    "You launch a loyalty program but see no change in visits in the first week.\n",
    "\n",
    "* I think the more important thing to measure would be how many people signed up for the loyalty program. At any rate, it seems like a loyalty program is geared toward already-loyal clients, so measuring new customers is somewhat irrelevant to what I assume the goal of the loyalty program is. \n",
    "\n"
   ]
  },
  {
   "cell_type": "code",
   "execution_count": null,
   "metadata": {
    "collapsed": true
   },
   "outputs": [],
   "source": []
  }
 ],
 "metadata": {
  "kernelspec": {
   "display_name": "Python 3",
   "language": "python",
   "name": "python3"
  },
  "language_info": {
   "codemirror_mode": {
    "name": "ipython",
    "version": 3
   },
   "file_extension": ".py",
   "mimetype": "text/x-python",
   "name": "python",
   "nbconvert_exporter": "python",
   "pygments_lexer": "ipython3",
   "version": "3.6.1"
  }
 },
 "nbformat": 4,
 "nbformat_minor": 2
}
